{
  "nbformat": 4,
  "nbformat_minor": 0,
  "metadata": {
    "colab": {
      "name": "22N0457_IE507_Lab3_Ex2.ipynb",
      "provenance": [],
      "collapsed_sections": []
    },
    "kernelspec": {
      "name": "python3",
      "display_name": "Python 3"
    },
    "language_info": {
      "name": "python"
    }
  },
  "cells": [
    {
      "cell_type": "markdown",
      "source": [
        "$ \\huge{solution \\ \\ of \\ \\ 2.1}$\n",
        "\n",
        "let $x_i$  be indicator variable such that $x_i$= 1 if we choose $c_i$ course\n",
        "   \n",
        " $x_i$= 0 otherwise here i = 0,1,2,3,4,5,6,7,8,9\n",
        "\n",
        "$ c_0 = 4 \\  \\ \\  c_1 = 3 \\ \\ \\ c_2 =6  \\ \\ \\ c_3 = 5 \\ \\ \\ c_4 =2 \\ \\ \\ c_5 = 6 \\ \\ \\ c_6 = 4 \\ \\ c_7 = 8 \\ \\ c_8 = 8 \\ \\  c_9 = 6$ \n",
        "\n",
        "max $ \\sum  c_ix_i \\ \\ \\ \\ \\ \\ \\ \\ \\ \\ \\ i=0,1,2,3,4,5,6,7,8,9$ \\\\\n",
        "subject to constraints \\\\\n",
        "$ \\sum c_ix_i \\ge 26$ \n",
        "\n",
        " $4 \\le \\sum x_i \\le 8 $\n",
        "\n",
        "i = 0,1,2,3,4,5,6,7,8,9\n",
        "\n",
        "\n",
        "$ x_2+x_7 \\le 1$\n",
        "\n",
        "$ x_1+x_9 \\le 1$\n",
        "\n",
        "$ x_2 + x_8 \\le 1$\n",
        "\n",
        "$ 1 \\le x_0+x_1+x_2+x_3 \\le 2$\n",
        "\n",
        "$ x_5+x_9 \\le 1 $\n",
        "\n",
        "$x_6+x_8+x_9 \\le 2 $\n",
        "\n",
        "$ x_9-x_4 \\le 0 $"
      ],
      "metadata": {
        "id": "a2n1H7KFHvtk"
      }
    },
    {
      "cell_type": "code",
      "execution_count": 1,
      "metadata": {
        "id": "_pXrFlMFHdFz",
        "colab": {
          "base_uri": "https://localhost:8080/"
        },
        "outputId": "e13fdd3e-5dc0-439f-fdd1-6ce8fd073977"
      },
      "outputs": [
        {
          "output_type": "stream",
          "name": "stdout",
          "text": [
            "\u001b[K     |████████████████████████████████| 9.7 MB 5.2 MB/s \n",
            "\u001b[K     |████████████████████████████████| 49 kB 6.3 MB/s \n",
            "\u001b[?25h"
          ]
        }
      ],
      "source": [
        "!pip install -q pyomo"
      ]
    },
    {
      "cell_type": "code",
      "source": [
        "from pyomo.environ import *"
      ],
      "metadata": {
        "id": "_L49yY0QOL25"
      },
      "execution_count": 2,
      "outputs": []
    },
    {
      "cell_type": "code",
      "source": [
        "import numpy as np"
      ],
      "metadata": {
        "id": "R65mNBP8ORq_"
      },
      "execution_count": 3,
      "outputs": []
    },
    {
      "cell_type": "code",
      "source": [
        "model = ConcreteModel()"
      ],
      "metadata": {
        "id": "kQ9Sgr-HOVQM"
      },
      "execution_count": 4,
      "outputs": []
    },
    {
      "cell_type": "code",
      "source": [
        "M = 9\n",
        "N = 10\n",
        "obj_coef=np.array([4,3,6,5,2,6,4,8,8,6])\n",
        "constr_coef = np.array([[4,3,6,5,2,6,4,8,8,6],[1,1,1,1,1,1,1,1,1,1],[0,0,1,0,0,0,0,1,0,0],[0,1,0,0,0,0,0,0,0,1],[0,0,1,0,0,0,0,0,1,0],[1,1,1,1,0,0,0,0,0,0],[0,0,0,0,0,1,0,0,0,1],[0,0,0,0,0,0,1,0,1,1],[0,0,0,0,-1,0,0,0,0,1]])\n",
        "constr_rhs = np.array([np.inf,8,1,1,1,2,1,2,0])\n",
        "constr_lhs= np.array([26,4,-np.inf,-np.inf,-np.inf,1,-np.inf,-np.inf,-np.inf])\n",
        "row_indices =np.arange(M)\n",
        "col_indices = np.arange(N)"
      ],
      "metadata": {
        "id": "YB6rzS3jOcim"
      },
      "execution_count": 5,
      "outputs": []
    },
    {
      "cell_type": "code",
      "source": [
        "model.x=Var(col_indices,domain=Binary)\n",
        "model.constraints=ConstraintList()\n"
      ],
      "metadata": {
        "id": "5pu3hDebUMWY"
      },
      "execution_count": 6,
      "outputs": []
    },
    {
      "cell_type": "code",
      "source": [
        "for i in row_indices:\n",
        "  model.constraints.add(sum(constr_coef[i][j]*model.x[j] for j in col_indices)<=constr_rhs[i])\n",
        "  model.constraints.add(sum(constr_coef[i][j]*model.x[j] for j in col_indices)>=constr_lhs[i])"
      ],
      "metadata": {
        "id": "qWH9-GbKUVAN"
      },
      "execution_count": 7,
      "outputs": []
    },
    {
      "cell_type": "code",
      "source": [
        "model.objective=Objective(expr = summation(obj_coef,model.x),sense= maximize)"
      ],
      "metadata": {
        "id": "tK9uciyvXhqK"
      },
      "execution_count": 8,
      "outputs": []
    },
    {
      "cell_type": "code",
      "source": [
        "model.pprint()"
      ],
      "metadata": {
        "colab": {
          "base_uri": "https://localhost:8080/"
        },
        "id": "02-PWYFLX77-",
        "outputId": "330d703d-d2ed-4c64-a1b4-fce1fab02cd6"
      },
      "execution_count": 9,
      "outputs": [
        {
          "output_type": "stream",
          "name": "stdout",
          "text": [
            "2 Set Declarations\n",
            "    constraints_index : Size=1, Index=None, Ordered=Insertion\n",
            "        Key  : Dimen : Domain : Size : Members\n",
            "        None :     1 :    Any :   18 : {1, 2, 3, 4, 5, 6, 7, 8, 9, 10, 11, 12, 13, 14, 15, 16, 17, 18}\n",
            "    x_index : Size=1, Index=None, Ordered=False\n",
            "        Key  : Dimen : Domain : Size : Members\n",
            "        None :     1 :    Any :   10 : {0, 1, 2, 3, 4, 5, 6, 7, 8, 9}\n",
            "\n",
            "1 Var Declarations\n",
            "    x : Size=10, Index=x_index\n",
            "        Key : Lower : Value : Upper : Fixed : Stale : Domain\n",
            "          0 :     0 :  None :     1 : False :  True : Binary\n",
            "          1 :     0 :  None :     1 : False :  True : Binary\n",
            "          2 :     0 :  None :     1 : False :  True : Binary\n",
            "          3 :     0 :  None :     1 : False :  True : Binary\n",
            "          4 :     0 :  None :     1 : False :  True : Binary\n",
            "          5 :     0 :  None :     1 : False :  True : Binary\n",
            "          6 :     0 :  None :     1 : False :  True : Binary\n",
            "          7 :     0 :  None :     1 : False :  True : Binary\n",
            "          8 :     0 :  None :     1 : False :  True : Binary\n",
            "          9 :     0 :  None :     1 : False :  True : Binary\n",
            "\n",
            "1 Objective Declarations\n",
            "    objective : Size=1, Index=None, Active=True\n",
            "        Key  : Active : Sense    : Expression\n",
            "        None :   True : maximize : 4*x[0] + 3*x[1] + 6*x[2] + 5*x[3] + 2*x[4] + 6*x[5] + 4*x[6] + 8*x[7] + 8*x[8] + 6*x[9]\n",
            "\n",
            "1 Constraint Declarations\n",
            "    constraints : Size=18, Index=constraints_index, Active=True\n",
            "        Key : Lower : Body                                                                                    : Upper : Active\n",
            "          1 :  -Inf : 4*x[0] + 3*x[1] + 6*x[2] + 5*x[3] + 2*x[4] + 6*x[5] + 4*x[6] + 8*x[7] + 8*x[8] + 6*x[9] :  +Inf :   True\n",
            "          2 :  26.0 : 4*x[0] + 3*x[1] + 6*x[2] + 5*x[3] + 2*x[4] + 6*x[5] + 4*x[6] + 8*x[7] + 8*x[8] + 6*x[9] :  +Inf :   True\n",
            "          3 :  -Inf :                     x[0] + x[1] + x[2] + x[3] + x[4] + x[5] + x[6] + x[7] + x[8] + x[9] :   8.0 :   True\n",
            "          4 :   4.0 :                     x[0] + x[1] + x[2] + x[3] + x[4] + x[5] + x[6] + x[7] + x[8] + x[9] :  +Inf :   True\n",
            "          5 :  -Inf :                                                                             x[2] + x[7] :   1.0 :   True\n",
            "          6 :  -Inf :                                                                             x[2] + x[7] :  +Inf :   True\n",
            "          7 :  -Inf :                                                                             x[1] + x[9] :   1.0 :   True\n",
            "          8 :  -Inf :                                                                             x[1] + x[9] :  +Inf :   True\n",
            "          9 :  -Inf :                                                                             x[2] + x[8] :   1.0 :   True\n",
            "         10 :  -Inf :                                                                             x[2] + x[8] :  +Inf :   True\n",
            "         11 :  -Inf :                                                               x[0] + x[1] + x[2] + x[3] :   2.0 :   True\n",
            "         12 :   1.0 :                                                               x[0] + x[1] + x[2] + x[3] :  +Inf :   True\n",
            "         13 :  -Inf :                                                                             x[5] + x[9] :   1.0 :   True\n",
            "         14 :  -Inf :                                                                             x[5] + x[9] :  +Inf :   True\n",
            "         15 :  -Inf :                                                                      x[6] + x[8] + x[9] :   2.0 :   True\n",
            "         16 :  -Inf :                                                                      x[6] + x[8] + x[9] :  +Inf :   True\n",
            "         17 :  -Inf :                                                                           - x[4] + x[9] :   0.0 :   True\n",
            "         18 :  -Inf :                                                                           - x[4] + x[9] :  +Inf :   True\n",
            "\n",
            "5 Declarations: x_index x constraints_index constraints objective\n"
          ]
        }
      ]
    },
    {
      "cell_type": "code",
      "source": [
        "!apt-get install -y -qq coinor-cbc"
      ],
      "metadata": {
        "id": "2K2cFelzYHDd",
        "colab": {
          "base_uri": "https://localhost:8080/"
        },
        "outputId": "4cc03940-b634-42ce-8fba-6cbb11de86c2"
      },
      "execution_count": 10,
      "outputs": [
        {
          "output_type": "stream",
          "name": "stdout",
          "text": [
            "Selecting previously unselected package coinor-libcoinutils3v5.\n",
            "(Reading database ... 155676 files and directories currently installed.)\n",
            "Preparing to unpack .../0-coinor-libcoinutils3v5_2.10.14+repack1-1_amd64.deb ...\n",
            "Unpacking coinor-libcoinutils3v5 (2.10.14+repack1-1) ...\n",
            "Selecting previously unselected package coinor-libosi1v5.\n",
            "Preparing to unpack .../1-coinor-libosi1v5_0.107.9+repack1-1_amd64.deb ...\n",
            "Unpacking coinor-libosi1v5 (0.107.9+repack1-1) ...\n",
            "Selecting previously unselected package coinor-libclp1.\n",
            "Preparing to unpack .../2-coinor-libclp1_1.16.11+repack1-1_amd64.deb ...\n",
            "Unpacking coinor-libclp1 (1.16.11+repack1-1) ...\n",
            "Selecting previously unselected package coinor-libcgl1.\n",
            "Preparing to unpack .../3-coinor-libcgl1_0.59.10+repack1-1_amd64.deb ...\n",
            "Unpacking coinor-libcgl1 (0.59.10+repack1-1) ...\n",
            "Selecting previously unselected package coinor-libcbc3.\n",
            "Preparing to unpack .../4-coinor-libcbc3_2.9.9+repack1-1_amd64.deb ...\n",
            "Unpacking coinor-libcbc3 (2.9.9+repack1-1) ...\n",
            "Selecting previously unselected package coinor-cbc.\n",
            "Preparing to unpack .../5-coinor-cbc_2.9.9+repack1-1_amd64.deb ...\n",
            "Unpacking coinor-cbc (2.9.9+repack1-1) ...\n",
            "Setting up coinor-libcoinutils3v5 (2.10.14+repack1-1) ...\n",
            "Setting up coinor-libosi1v5 (0.107.9+repack1-1) ...\n",
            "Setting up coinor-libclp1 (1.16.11+repack1-1) ...\n",
            "Setting up coinor-libcgl1 (0.59.10+repack1-1) ...\n",
            "Setting up coinor-libcbc3 (2.9.9+repack1-1) ...\n",
            "Setting up coinor-cbc (2.9.9+repack1-1) ...\n",
            "Processing triggers for man-db (2.8.3-2ubuntu0.1) ...\n",
            "Processing triggers for libc-bin (2.27-3ubuntu1.5) ...\n"
          ]
        }
      ]
    },
    {
      "cell_type": "code",
      "source": [
        "opt=SolverFactory('cbc')"
      ],
      "metadata": {
        "id": "yTHMY3o0Yalk"
      },
      "execution_count": 11,
      "outputs": []
    },
    {
      "cell_type": "code",
      "source": [
        "result = opt.solve(model)\n",
        "print(result)\n",
        "\n",
        "print('Solver status:', result.solver.status)\n",
        "print('Solver termination condition:',result.solver.termination_condition)\n",
        "print('Solver time:',result.solver.time)"
      ],
      "metadata": {
        "colab": {
          "base_uri": "https://localhost:8080/"
        },
        "id": "g6K17kX3Ypdn",
        "outputId": "5d50172d-3ca2-4291-d9d3-038b534412f8"
      },
      "execution_count": 12,
      "outputs": [
        {
          "output_type": "stream",
          "name": "stdout",
          "text": [
            "\n",
            "Problem: \n",
            "- Name: unknown\n",
            "  Lower bound: 37.0\n",
            "  Upper bound: 37.0\n",
            "  Number of objectives: 1\n",
            "  Number of constraints: 11\n",
            "  Number of variables: 10\n",
            "  Number of binary variables: 10\n",
            "  Number of integer variables: 10\n",
            "  Number of nonzeros: 10\n",
            "  Sense: maximize\n",
            "Solver: \n",
            "- Status: ok\n",
            "  User time: -1.0\n",
            "  System time: 0.0\n",
            "  Wallclock time: 0.0\n",
            "  Termination condition: optimal\n",
            "  Termination message: Model was solved to optimality (subject to tolerances), and an optimal solution is available.\n",
            "  Statistics: \n",
            "    Branch and bound: \n",
            "      Number of bounded subproblems: 0\n",
            "      Number of created subproblems: 0\n",
            "    Black box: \n",
            "      Number of iterations: 0\n",
            "  Error rc: 0\n",
            "  Time: 0.05160689353942871\n",
            "Solution: \n",
            "- number of solutions: 0\n",
            "  number of solutions displayed: 0\n",
            "\n",
            "Solver status: ok\n",
            "Solver termination condition: optimal\n",
            "Solver time: 0.05160689353942871\n"
          ]
        }
      ]
    },
    {
      "cell_type": "code",
      "source": [
        "# display solution\n",
        "print('\\nObjective = ', model.objective())\n",
        "\n",
        "print('\\nDecision Variables')\n",
        "for i in col_indices:\n",
        "  print('x[',i,'] = ', model.x[i].value)\n",
        "print('\\nConstraints')\n",
        "model.constraints.display()"
      ],
      "metadata": {
        "colab": {
          "base_uri": "https://localhost:8080/"
        },
        "id": "k0PzVJKtY4S6",
        "outputId": "9cdd8573-bc7a-4864-9eae-96bb12938d5d"
      },
      "execution_count": 13,
      "outputs": [
        {
          "output_type": "stream",
          "name": "stdout",
          "text": [
            "\n",
            "Objective =  37.0\n",
            "\n",
            "Decision Variables\n",
            "x[ 0 ] =  1.0\n",
            "x[ 1 ] =  0.0\n",
            "x[ 2 ] =  0.0\n",
            "x[ 3 ] =  1.0\n",
            "x[ 4 ] =  1.0\n",
            "x[ 5 ] =  1.0\n",
            "x[ 6 ] =  1.0\n",
            "x[ 7 ] =  1.0\n",
            "x[ 8 ] =  1.0\n",
            "x[ 9 ] =  0.0\n",
            "\n",
            "Constraints\n",
            "constraints : Size=18\n",
            "    Key : Lower : Body : Upper\n",
            "      1 :  None : 37.0 :  None\n",
            "      2 :  26.0 : 37.0 :  None\n",
            "      3 :  None :  7.0 :   8.0\n",
            "      4 :   4.0 :  7.0 :  None\n",
            "      5 :  None :  1.0 :   1.0\n",
            "      6 :  None :  1.0 :  None\n",
            "      7 :  None :  0.0 :   1.0\n",
            "      8 :  None :  0.0 :  None\n",
            "      9 :  None :  1.0 :   1.0\n",
            "     10 :  None :  1.0 :  None\n",
            "     11 :  None :  2.0 :   2.0\n",
            "     12 :   1.0 :  2.0 :  None\n",
            "     13 :  None :  1.0 :   1.0\n",
            "     14 :  None :  1.0 :  None\n",
            "     15 :  None :  2.0 :   2.0\n",
            "     16 :  None :  2.0 :  None\n",
            "     17 :  None : -1.0 :   0.0\n",
            "     18 :  None : -1.0 :  None\n"
          ]
        }
      ]
    },
    {
      "cell_type": "markdown",
      "source": [
        "$\\huge{solution \\ \\ of  \\ \\ 2.3}$\n",
        "\n",
        "$\\huge{optimal \\ \\ value \\ \\ of \\ \\ objective \\ \\ function = 37.0}$\n",
        "$\\huge{optimal \\ \\ value \\ \\ of \\ \\ decision variable} \\\\ x_0 = 1 \\\\ x_1 = 0 \\\\ x_2 = 0 \\\\ x_3 = 1 \\\\ x_4 = 1 \\\\ x_5 = 1 \\\\ x_6 =1 \\\\ x_7 =1 \\\\ x_8 =1 \\\\ x_9 = 0 $\n"
      ],
      "metadata": {
        "id": "caoRHh0bTw3C"
      }
    },
    {
      "cell_type": "code",
      "source": [
        "model1 = ConcreteModel()"
      ],
      "metadata": {
        "id": "i0JvsgS5a198"
      },
      "execution_count": 14,
      "outputs": []
    },
    {
      "cell_type": "code",
      "source": [
        "model1.x=Var(col_indices)\n",
        "model1.constraints=ConstraintList()"
      ],
      "metadata": {
        "id": "5KeP1iYbYCd_"
      },
      "execution_count": 15,
      "outputs": []
    },
    {
      "cell_type": "code",
      "source": [
        "for i in row_indices:\n",
        "  model1.constraints.add(sum(constr_coef[i][j]*model1.x[j] for j in col_indices)<=constr_rhs[i])\n",
        "  model1.constraints.add(sum(constr_coef[i][j]*model1.x[j] for j in col_indices)>=constr_lhs[i])"
      ],
      "metadata": {
        "id": "hYHxIpYcbi-v"
      },
      "execution_count": 16,
      "outputs": []
    },
    {
      "cell_type": "code",
      "source": [
        "model1.objective=Objective(expr = summation(obj_coef,model1.x),sense= maximize)"
      ],
      "metadata": {
        "id": "P8cYUQGzbtVD"
      },
      "execution_count": 17,
      "outputs": []
    },
    {
      "cell_type": "code",
      "source": [
        "for i in col_indices:\n",
        "  model1.x[i].setlb(0)\n",
        "  model1.x[i].setub(1)"
      ],
      "metadata": {
        "id": "3LOeQhfsVvkM"
      },
      "execution_count": 18,
      "outputs": []
    },
    {
      "cell_type": "code",
      "source": [
        "model1.pprint()"
      ],
      "metadata": {
        "colab": {
          "base_uri": "https://localhost:8080/"
        },
        "id": "kFaM3iwSZUPr",
        "outputId": "0db8061c-db51-45eb-dd86-53a6d97d57b8"
      },
      "execution_count": 19,
      "outputs": [
        {
          "output_type": "stream",
          "name": "stdout",
          "text": [
            "2 Set Declarations\n",
            "    constraints_index : Size=1, Index=None, Ordered=Insertion\n",
            "        Key  : Dimen : Domain : Size : Members\n",
            "        None :     1 :    Any :   18 : {1, 2, 3, 4, 5, 6, 7, 8, 9, 10, 11, 12, 13, 14, 15, 16, 17, 18}\n",
            "    x_index : Size=1, Index=None, Ordered=False\n",
            "        Key  : Dimen : Domain : Size : Members\n",
            "        None :     1 :    Any :   10 : {0, 1, 2, 3, 4, 5, 6, 7, 8, 9}\n",
            "\n",
            "1 Var Declarations\n",
            "    x : Size=10, Index=x_index\n",
            "        Key : Lower : Value : Upper : Fixed : Stale : Domain\n",
            "          0 :     0 :  None :     1 : False :  True :  Reals\n",
            "          1 :     0 :  None :     1 : False :  True :  Reals\n",
            "          2 :     0 :  None :     1 : False :  True :  Reals\n",
            "          3 :     0 :  None :     1 : False :  True :  Reals\n",
            "          4 :     0 :  None :     1 : False :  True :  Reals\n",
            "          5 :     0 :  None :     1 : False :  True :  Reals\n",
            "          6 :     0 :  None :     1 : False :  True :  Reals\n",
            "          7 :     0 :  None :     1 : False :  True :  Reals\n",
            "          8 :     0 :  None :     1 : False :  True :  Reals\n",
            "          9 :     0 :  None :     1 : False :  True :  Reals\n",
            "\n",
            "1 Objective Declarations\n",
            "    objective : Size=1, Index=None, Active=True\n",
            "        Key  : Active : Sense    : Expression\n",
            "        None :   True : maximize : 4*x[0] + 3*x[1] + 6*x[2] + 5*x[3] + 2*x[4] + 6*x[5] + 4*x[6] + 8*x[7] + 8*x[8] + 6*x[9]\n",
            "\n",
            "1 Constraint Declarations\n",
            "    constraints : Size=18, Index=constraints_index, Active=True\n",
            "        Key : Lower : Body                                                                                    : Upper : Active\n",
            "          1 :  -Inf : 4*x[0] + 3*x[1] + 6*x[2] + 5*x[3] + 2*x[4] + 6*x[5] + 4*x[6] + 8*x[7] + 8*x[8] + 6*x[9] :  +Inf :   True\n",
            "          2 :  26.0 : 4*x[0] + 3*x[1] + 6*x[2] + 5*x[3] + 2*x[4] + 6*x[5] + 4*x[6] + 8*x[7] + 8*x[8] + 6*x[9] :  +Inf :   True\n",
            "          3 :  -Inf :                     x[0] + x[1] + x[2] + x[3] + x[4] + x[5] + x[6] + x[7] + x[8] + x[9] :   8.0 :   True\n",
            "          4 :   4.0 :                     x[0] + x[1] + x[2] + x[3] + x[4] + x[5] + x[6] + x[7] + x[8] + x[9] :  +Inf :   True\n",
            "          5 :  -Inf :                                                                             x[2] + x[7] :   1.0 :   True\n",
            "          6 :  -Inf :                                                                             x[2] + x[7] :  +Inf :   True\n",
            "          7 :  -Inf :                                                                             x[1] + x[9] :   1.0 :   True\n",
            "          8 :  -Inf :                                                                             x[1] + x[9] :  +Inf :   True\n",
            "          9 :  -Inf :                                                                             x[2] + x[8] :   1.0 :   True\n",
            "         10 :  -Inf :                                                                             x[2] + x[8] :  +Inf :   True\n",
            "         11 :  -Inf :                                                               x[0] + x[1] + x[2] + x[3] :   2.0 :   True\n",
            "         12 :   1.0 :                                                               x[0] + x[1] + x[2] + x[3] :  +Inf :   True\n",
            "         13 :  -Inf :                                                                             x[5] + x[9] :   1.0 :   True\n",
            "         14 :  -Inf :                                                                             x[5] + x[9] :  +Inf :   True\n",
            "         15 :  -Inf :                                                                      x[6] + x[8] + x[9] :   2.0 :   True\n",
            "         16 :  -Inf :                                                                      x[6] + x[8] + x[9] :  +Inf :   True\n",
            "         17 :  -Inf :                                                                           - x[4] + x[9] :   0.0 :   True\n",
            "         18 :  -Inf :                                                                           - x[4] + x[9] :  +Inf :   True\n",
            "\n",
            "5 Declarations: x_index x constraints_index constraints objective\n"
          ]
        }
      ]
    },
    {
      "cell_type": "code",
      "source": [
        "result = opt.solve(model1)\n",
        "print(result)\n",
        "\n",
        "print('Solver status:', result.solver.status)\n",
        "print('Solver termination condition:',result.solver.termination_condition)\n",
        "print('Solver time:',result.solver.time)"
      ],
      "metadata": {
        "colab": {
          "base_uri": "https://localhost:8080/"
        },
        "id": "gp2bw3zjWpo_",
        "outputId": "670a62e6-119a-4eb0-96cf-991571553dca"
      },
      "execution_count": 20,
      "outputs": [
        {
          "output_type": "stream",
          "name": "stdout",
          "text": [
            "\n",
            "Problem: \n",
            "- Name: unknown\n",
            "  Lower bound: 37.0\n",
            "  Upper bound: 37.0\n",
            "  Number of objectives: 1\n",
            "  Number of constraints: 12\n",
            "  Number of variables: 11\n",
            "  Number of nonzeros: 10\n",
            "  Sense: maximize\n",
            "Solver: \n",
            "- Status: ok\n",
            "  User time: -1.0\n",
            "  System time: 0.0\n",
            "  Wallclock time: 0.01\n",
            "  Termination condition: optimal\n",
            "  Termination message: Model was solved to optimality (subject to tolerances), and an optimal solution is available.\n",
            "  Statistics: \n",
            "    Branch and bound: \n",
            "      Number of bounded subproblems: None\n",
            "      Number of created subproblems: None\n",
            "    Black box: \n",
            "      Number of iterations: 3\n",
            "  Error rc: 0\n",
            "  Time: 0.04971027374267578\n",
            "Solution: \n",
            "- number of solutions: 0\n",
            "  number of solutions displayed: 0\n",
            "\n",
            "Solver status: ok\n",
            "Solver termination condition: optimal\n",
            "Solver time: 0.04971027374267578\n"
          ]
        }
      ]
    },
    {
      "cell_type": "code",
      "source": [
        "# display solution\n",
        "print('\\nObjective = ', model1.objective())\n",
        "\n",
        "print('\\nDecision Variables')\n",
        "for i in col_indices:\n",
        "  print('x[',i,'] = ', model1.x[i].value)\n",
        "print('\\nConstraints')\n",
        "model1.constraints.display()"
      ],
      "metadata": {
        "colab": {
          "base_uri": "https://localhost:8080/"
        },
        "id": "142Us7nOZGIk",
        "outputId": "f2660c1a-5392-4b95-c45c-63572aa5c56d"
      },
      "execution_count": 21,
      "outputs": [
        {
          "output_type": "stream",
          "name": "stdout",
          "text": [
            "\n",
            "Objective =  37.0\n",
            "\n",
            "Decision Variables\n",
            "x[ 0 ] =  1.0\n",
            "x[ 1 ] =  0.0\n",
            "x[ 2 ] =  0.0\n",
            "x[ 3 ] =  1.0\n",
            "x[ 4 ] =  1.0\n",
            "x[ 5 ] =  1.0\n",
            "x[ 6 ] =  1.0\n",
            "x[ 7 ] =  1.0\n",
            "x[ 8 ] =  1.0\n",
            "x[ 9 ] =  0.0\n",
            "\n",
            "Constraints\n",
            "constraints : Size=18\n",
            "    Key : Lower : Body : Upper\n",
            "      1 :  None : 37.0 :  None\n",
            "      2 :  26.0 : 37.0 :  None\n",
            "      3 :  None :  7.0 :   8.0\n",
            "      4 :   4.0 :  7.0 :  None\n",
            "      5 :  None :  1.0 :   1.0\n",
            "      6 :  None :  1.0 :  None\n",
            "      7 :  None :  0.0 :   1.0\n",
            "      8 :  None :  0.0 :  None\n",
            "      9 :  None :  1.0 :   1.0\n",
            "     10 :  None :  1.0 :  None\n",
            "     11 :  None :  2.0 :   2.0\n",
            "     12 :   1.0 :  2.0 :  None\n",
            "     13 :  None :  1.0 :   1.0\n",
            "     14 :  None :  1.0 :  None\n",
            "     15 :  None :  2.0 :   2.0\n",
            "     16 :  None :  2.0 :  None\n",
            "     17 :  None : -1.0 :   0.0\n",
            "     18 :  None : -1.0 :  None\n"
          ]
        }
      ]
    },
    {
      "cell_type": "markdown",
      "source": [
        "$\\huge{solution \\ \\ of \\ \\ 2.4}$  $\\huge{optimal \\ \\ value \\ \\ of \\ \\ objective \\ \\ function = 37.0}$\n",
        "$\\huge{optimal \\ \\ value \\ \\ of \\ \\ decision variable} \\\\ x_0 = 1 \\\\ x_1 = 0 \\\\ x_2 = 0 \\\\ x_3 = 1 \\\\ x_4 = 1 \\\\ x_5 = 1 \\\\ x_6 =1 \\\\ x_7 =1 \\\\ x_8 =1 \\\\ x_9 = 0 $"
      ],
      "metadata": {
        "id": "SIs6EJ7TipZI"
      }
    },
    {
      "cell_type": "markdown",
      "source": [
        "$ \\huge{solution \\ \\ of \\ \\ 2.5}$\n",
        "\n",
        "MILP and LP solution is same here  because by hakim's theorem we always get optimal solution at nodes (heuristic approach) \n",
        " \n",
        "  \n",
        "here we get same solution but it always not happend in some case if we round off may be solution is infeasible"
      ],
      "metadata": {
        "id": "70MxsjTdjQy-"
      }
    },
    {
      "cell_type": "markdown",
      "source": [
        "$ \\huge{ solution \\ \\ of \\ \\ 2.6 } $\n",
        "\n",
        "let $x_{10}$ is new indicator variable such that\n",
        "\n",
        " $ x_{10}=1$ if we choose c10 course\n",
        "\n",
        " $x_{10} = 0 $ otherwise\n",
        "\n",
        " we add two new constraints as follows\n",
        "\n",
        " $x_5$ + $x_{10} \\le 1 $\n",
        "\n",
        " $ x_6 +x_{10} \\le 1 $ \n",
        "\n",
        " by these change our objective function is also change as \n",
        "\n",
        " $  max \\sum c_i x_i $ $ \\ \\ \\ \\ \\ \\  \\      i = 0,1,2,3,4,5,6,7,8,9,10  $"
      ],
      "metadata": {
        "id": "Vv9Ly1qedjtu"
      }
    },
    {
      "cell_type": "code",
      "source": [
        "model.x10 = Var(domain=Binary)"
      ],
      "metadata": {
        "id": "irgfImiYaszE"
      },
      "execution_count": 22,
      "outputs": []
    },
    {
      "cell_type": "code",
      "source": [
        "model.new_objective =Objective(expr = summation(obj_coef,model.x) + 12*model.x10 , sense=maximize)"
      ],
      "metadata": {
        "id": "CJKqetUwc7WF"
      },
      "execution_count": 23,
      "outputs": []
    },
    {
      "cell_type": "code",
      "source": [
        "model.constraints.add(expr = model.x[5]+model.x10 <=1)\n",
        "model.constraints.add(expr = model.x[6]+model.x10 <=1)"
      ],
      "metadata": {
        "colab": {
          "base_uri": "https://localhost:8080/"
        },
        "id": "Lydp287Ad5II",
        "outputId": "defb4d98-0924-4252-be19-9b98d6352ea5"
      },
      "execution_count": 24,
      "outputs": [
        {
          "output_type": "execute_result",
          "data": {
            "text/plain": [
              "<pyomo.core.base.constraint._GeneralConstraintData at 0x7f87d45ab440>"
            ]
          },
          "metadata": {},
          "execution_count": 24
        }
      ]
    },
    {
      "cell_type": "code",
      "source": [
        "model.objective.deactivate()"
      ],
      "metadata": {
        "id": "Uo5JkfDvf0VE"
      },
      "execution_count": 25,
      "outputs": []
    },
    {
      "cell_type": "code",
      "source": [
        "model.pprint()"
      ],
      "metadata": {
        "colab": {
          "base_uri": "https://localhost:8080/"
        },
        "id": "I_xFH2fXf79G",
        "outputId": "db51e525-50a0-4923-dfb0-39d6e93af521"
      },
      "execution_count": 26,
      "outputs": [
        {
          "output_type": "stream",
          "name": "stdout",
          "text": [
            "2 Set Declarations\n",
            "    constraints_index : Size=1, Index=None, Ordered=Insertion\n",
            "        Key  : Dimen : Domain : Size : Members\n",
            "        None :     1 :    Any :   20 : {1, 2, 3, 4, 5, 6, 7, 8, 9, 10, 11, 12, 13, 14, 15, 16, 17, 18, 19, 20}\n",
            "    x_index : Size=1, Index=None, Ordered=False\n",
            "        Key  : Dimen : Domain : Size : Members\n",
            "        None :     1 :    Any :   10 : {0, 1, 2, 3, 4, 5, 6, 7, 8, 9}\n",
            "\n",
            "2 Var Declarations\n",
            "    x : Size=10, Index=x_index\n",
            "        Key : Lower : Value : Upper : Fixed : Stale : Domain\n",
            "          0 :     0 :   1.0 :     1 : False :  True : Binary\n",
            "          1 :     0 :   0.0 :     1 : False :  True : Binary\n",
            "          2 :     0 :   0.0 :     1 : False :  True : Binary\n",
            "          3 :     0 :   1.0 :     1 : False :  True : Binary\n",
            "          4 :     0 :   1.0 :     1 : False :  True : Binary\n",
            "          5 :     0 :   1.0 :     1 : False :  True : Binary\n",
            "          6 :     0 :   1.0 :     1 : False :  True : Binary\n",
            "          7 :     0 :   1.0 :     1 : False :  True : Binary\n",
            "          8 :     0 :   1.0 :     1 : False :  True : Binary\n",
            "          9 :     0 :   0.0 :     1 : False :  True : Binary\n",
            "    x10 : Size=1, Index=None\n",
            "        Key  : Lower : Value : Upper : Fixed : Stale : Domain\n",
            "        None :     0 :  None :     1 : False :  True : Binary\n",
            "\n",
            "2 Objective Declarations\n",
            "    new_objective : Size=1, Index=None, Active=True\n",
            "        Key  : Active : Sense    : Expression\n",
            "        None :   True : maximize : 4*x[0] + 3*x[1] + 6*x[2] + 5*x[3] + 2*x[4] + 6*x[5] + 4*x[6] + 8*x[7] + 8*x[8] + 6*x[9] + 12*x10\n",
            "    objective : Size=1, Index=None, Active=False\n",
            "        Key  : Active : Sense    : Expression\n",
            "        None :  False : maximize : 4*x[0] + 3*x[1] + 6*x[2] + 5*x[3] + 2*x[4] + 6*x[5] + 4*x[6] + 8*x[7] + 8*x[8] + 6*x[9]\n",
            "\n",
            "1 Constraint Declarations\n",
            "    constraints : Size=20, Index=constraints_index, Active=True\n",
            "        Key : Lower : Body                                                                                    : Upper : Active\n",
            "          1 :  -Inf : 4*x[0] + 3*x[1] + 6*x[2] + 5*x[3] + 2*x[4] + 6*x[5] + 4*x[6] + 8*x[7] + 8*x[8] + 6*x[9] :  +Inf :   True\n",
            "          2 :  26.0 : 4*x[0] + 3*x[1] + 6*x[2] + 5*x[3] + 2*x[4] + 6*x[5] + 4*x[6] + 8*x[7] + 8*x[8] + 6*x[9] :  +Inf :   True\n",
            "          3 :  -Inf :                     x[0] + x[1] + x[2] + x[3] + x[4] + x[5] + x[6] + x[7] + x[8] + x[9] :   8.0 :   True\n",
            "          4 :   4.0 :                     x[0] + x[1] + x[2] + x[3] + x[4] + x[5] + x[6] + x[7] + x[8] + x[9] :  +Inf :   True\n",
            "          5 :  -Inf :                                                                             x[2] + x[7] :   1.0 :   True\n",
            "          6 :  -Inf :                                                                             x[2] + x[7] :  +Inf :   True\n",
            "          7 :  -Inf :                                                                             x[1] + x[9] :   1.0 :   True\n",
            "          8 :  -Inf :                                                                             x[1] + x[9] :  +Inf :   True\n",
            "          9 :  -Inf :                                                                             x[2] + x[8] :   1.0 :   True\n",
            "         10 :  -Inf :                                                                             x[2] + x[8] :  +Inf :   True\n",
            "         11 :  -Inf :                                                               x[0] + x[1] + x[2] + x[3] :   2.0 :   True\n",
            "         12 :   1.0 :                                                               x[0] + x[1] + x[2] + x[3] :  +Inf :   True\n",
            "         13 :  -Inf :                                                                             x[5] + x[9] :   1.0 :   True\n",
            "         14 :  -Inf :                                                                             x[5] + x[9] :  +Inf :   True\n",
            "         15 :  -Inf :                                                                      x[6] + x[8] + x[9] :   2.0 :   True\n",
            "         16 :  -Inf :                                                                      x[6] + x[8] + x[9] :  +Inf :   True\n",
            "         17 :  -Inf :                                                                           - x[4] + x[9] :   0.0 :   True\n",
            "         18 :  -Inf :                                                                           - x[4] + x[9] :  +Inf :   True\n",
            "         19 :  -Inf :                                                                              x[5] + x10 :   1.0 :   True\n",
            "         20 :  -Inf :                                                                              x[6] + x10 :   1.0 :   True\n",
            "\n",
            "7 Declarations: x_index x constraints_index constraints objective x10 new_objective\n"
          ]
        }
      ]
    },
    {
      "cell_type": "code",
      "source": [
        "result = opt.solve(model)\n",
        "print(result)\n",
        "\n",
        "print('Solver status:', result.solver.status)\n",
        "print('Solver termination condition:',result.solver.termination_condition)\n",
        "print('Solver time:',result.solver.time)"
      ],
      "metadata": {
        "colab": {
          "base_uri": "https://localhost:8080/"
        },
        "id": "dqYaAVYZfkmE",
        "outputId": "f85fbe3a-b4f8-47d6-9ec9-98d62246254f"
      },
      "execution_count": 27,
      "outputs": [
        {
          "output_type": "stream",
          "name": "stdout",
          "text": [
            "\n",
            "Problem: \n",
            "- Name: unknown\n",
            "  Lower bound: 45.0\n",
            "  Upper bound: 45.0\n",
            "  Number of objectives: 1\n",
            "  Number of constraints: 13\n",
            "  Number of variables: 11\n",
            "  Number of binary variables: 11\n",
            "  Number of integer variables: 11\n",
            "  Number of nonzeros: 11\n",
            "  Sense: maximize\n",
            "Solver: \n",
            "- Status: ok\n",
            "  User time: -1.0\n",
            "  System time: 0.0\n",
            "  Wallclock time: 0.0\n",
            "  Termination condition: optimal\n",
            "  Termination message: Model was solved to optimality (subject to tolerances), and an optimal solution is available.\n",
            "  Statistics: \n",
            "    Branch and bound: \n",
            "      Number of bounded subproblems: 0\n",
            "      Number of created subproblems: 0\n",
            "    Black box: \n",
            "      Number of iterations: 0\n",
            "  Error rc: 0\n",
            "  Time: 0.02531719207763672\n",
            "Solution: \n",
            "- number of solutions: 0\n",
            "  number of solutions displayed: 0\n",
            "\n",
            "Solver status: ok\n",
            "Solver termination condition: optimal\n",
            "Solver time: 0.02531719207763672\n"
          ]
        }
      ]
    },
    {
      "cell_type": "code",
      "source": [
        "# display solution\n",
        "print('\\nObjective = ', model.new_objective())\n",
        "\n",
        "print('\\nDecision Variables')\n",
        "for i in col_indices:\n",
        "  print('x[',i,'] = ', model.x[i].value)\n",
        "print('x10 = ',model.x10.value)\n",
        "print('\\nConstraints')\n",
        "model.constraints.display()"
      ],
      "metadata": {
        "colab": {
          "base_uri": "https://localhost:8080/"
        },
        "id": "RumKVzgqhp2v",
        "outputId": "127588b8-32bb-4949-b692-5d38ec327098"
      },
      "execution_count": 28,
      "outputs": [
        {
          "output_type": "stream",
          "name": "stdout",
          "text": [
            "\n",
            "Objective =  45.0\n",
            "\n",
            "Decision Variables\n",
            "x[ 0 ] =  1.0\n",
            "x[ 1 ] =  0.0\n",
            "x[ 2 ] =  0.0\n",
            "x[ 3 ] =  1.0\n",
            "x[ 4 ] =  1.0\n",
            "x[ 5 ] =  0.0\n",
            "x[ 6 ] =  0.0\n",
            "x[ 7 ] =  1.0\n",
            "x[ 8 ] =  1.0\n",
            "x[ 9 ] =  1.0\n",
            "x10 =  1.0\n",
            "\n",
            "Constraints\n",
            "constraints : Size=20\n",
            "    Key : Lower : Body : Upper\n",
            "      1 :  None : 33.0 :  None\n",
            "      2 :  26.0 : 33.0 :  None\n",
            "      3 :  None :  6.0 :   8.0\n",
            "      4 :   4.0 :  6.0 :  None\n",
            "      5 :  None :  1.0 :   1.0\n",
            "      6 :  None :  1.0 :  None\n",
            "      7 :  None :  1.0 :   1.0\n",
            "      8 :  None :  1.0 :  None\n",
            "      9 :  None :  1.0 :   1.0\n",
            "     10 :  None :  1.0 :  None\n",
            "     11 :  None :  2.0 :   2.0\n",
            "     12 :   1.0 :  2.0 :  None\n",
            "     13 :  None :  1.0 :   1.0\n",
            "     14 :  None :  1.0 :  None\n",
            "     15 :  None :  2.0 :   2.0\n",
            "     16 :  None :  2.0 :  None\n",
            "     17 :  None :  0.0 :   0.0\n",
            "     18 :  None :  0.0 :  None\n",
            "     19 :  None :  1.0 :   1.0\n",
            "     20 :  None :  1.0 :   1.0\n"
          ]
        }
      ]
    },
    {
      "cell_type": "markdown",
      "source": [
        "$ \\huge{solution \\ \\ of \\ \\ 2.7} $\n",
        "\n",
        " $\\huge{optimal \\ \\ value \\ \\ of \\ \\ objective \\ \\ function = 45.0}$\n",
        "$\\huge{optimal \\ \\ value \\ \\ of \\ \\ decision variable} \\\\ x_0 = 1 \\\\ x_1 = 0 \\\\ x_2 = 0 \\\\ x_3 = 1 \\\\ x_4 = 1 \\\\ x_5 = 0 \\\\ x_6 =0 \\\\ x_7 =1 \\\\ x_8 =1 \\\\ x_9 = 1 \\\\ x_{10} = 1 $\n",
        "\n"
      ],
      "metadata": {
        "id": "70UipJFJnDmr"
      }
    },
    {
      "cell_type": "code",
      "source": [
        "model2 =ConcreteModel()"
      ],
      "metadata": {
        "id": "UQyQRSeGn3Hk"
      },
      "execution_count": 29,
      "outputs": []
    },
    {
      "cell_type": "code",
      "source": [
        "model2.x=Var(col_indices)\n",
        "model2.x10 =Var()\n",
        "model2.constraints=ConstraintList()"
      ],
      "metadata": {
        "id": "8gbzxV-2oCsW"
      },
      "execution_count": 30,
      "outputs": []
    },
    {
      "cell_type": "code",
      "source": [
        "for i in row_indices:\n",
        "  model2.constraints.add(sum(constr_coef[i][j]*model2.x[j] for j in col_indices)<=constr_rhs[i])\n",
        "  model2.constraints.add(sum(constr_coef[i][j]*model2.x[j] for j in col_indices)>=constr_lhs[i])\n",
        "model2.constraints.add(expr = model2.x[5]+model2.x10 <=1)\n",
        "model2.constraints.add(expr = model2.x[6]+model2.x10 <=1)"
      ],
      "metadata": {
        "colab": {
          "base_uri": "https://localhost:8080/"
        },
        "id": "46H5jtA3oaO7",
        "outputId": "d9ff37ff-24a1-450b-87ce-edbfbd990f02"
      },
      "execution_count": 31,
      "outputs": [
        {
          "output_type": "execute_result",
          "data": {
            "text/plain": [
              "<pyomo.core.base.constraint._GeneralConstraintData at 0x7f87d454c360>"
            ]
          },
          "metadata": {},
          "execution_count": 31
        }
      ]
    },
    {
      "cell_type": "code",
      "source": [
        "model2.new_objective =Objective(expr = summation(obj_coef,model2.x) + 12*model2.x10 , sense=maximize)"
      ],
      "metadata": {
        "id": "LIT7FfDnpLik"
      },
      "execution_count": 32,
      "outputs": []
    },
    {
      "cell_type": "code",
      "source": [
        "for i in col_indices:\n",
        "  model2.x[i].setlb(0)\n",
        "  model2.x[i].setub(1)\n",
        "model2.x10.setlb(0)\n",
        "model2.x10.setub(1)"
      ],
      "metadata": {
        "id": "RkxgdPEnpKJj"
      },
      "execution_count": 33,
      "outputs": []
    },
    {
      "cell_type": "code",
      "source": [
        "model2.pprint()"
      ],
      "metadata": {
        "colab": {
          "base_uri": "https://localhost:8080/"
        },
        "id": "9N_sJVAbpY-D",
        "outputId": "cd353c8f-2d47-4ca9-f30e-924e4d760db6"
      },
      "execution_count": 34,
      "outputs": [
        {
          "output_type": "stream",
          "name": "stdout",
          "text": [
            "2 Set Declarations\n",
            "    constraints_index : Size=1, Index=None, Ordered=Insertion\n",
            "        Key  : Dimen : Domain : Size : Members\n",
            "        None :     1 :    Any :   20 : {1, 2, 3, 4, 5, 6, 7, 8, 9, 10, 11, 12, 13, 14, 15, 16, 17, 18, 19, 20}\n",
            "    x_index : Size=1, Index=None, Ordered=False\n",
            "        Key  : Dimen : Domain : Size : Members\n",
            "        None :     1 :    Any :   10 : {0, 1, 2, 3, 4, 5, 6, 7, 8, 9}\n",
            "\n",
            "2 Var Declarations\n",
            "    x : Size=10, Index=x_index\n",
            "        Key : Lower : Value : Upper : Fixed : Stale : Domain\n",
            "          0 :     0 :  None :     1 : False :  True :  Reals\n",
            "          1 :     0 :  None :     1 : False :  True :  Reals\n",
            "          2 :     0 :  None :     1 : False :  True :  Reals\n",
            "          3 :     0 :  None :     1 : False :  True :  Reals\n",
            "          4 :     0 :  None :     1 : False :  True :  Reals\n",
            "          5 :     0 :  None :     1 : False :  True :  Reals\n",
            "          6 :     0 :  None :     1 : False :  True :  Reals\n",
            "          7 :     0 :  None :     1 : False :  True :  Reals\n",
            "          8 :     0 :  None :     1 : False :  True :  Reals\n",
            "          9 :     0 :  None :     1 : False :  True :  Reals\n",
            "    x10 : Size=1, Index=None\n",
            "        Key  : Lower : Value : Upper : Fixed : Stale : Domain\n",
            "        None :     0 :  None :     1 : False :  True :  Reals\n",
            "\n",
            "1 Objective Declarations\n",
            "    new_objective : Size=1, Index=None, Active=True\n",
            "        Key  : Active : Sense    : Expression\n",
            "        None :   True : maximize : 4*x[0] + 3*x[1] + 6*x[2] + 5*x[3] + 2*x[4] + 6*x[5] + 4*x[6] + 8*x[7] + 8*x[8] + 6*x[9] + 12*x10\n",
            "\n",
            "1 Constraint Declarations\n",
            "    constraints : Size=20, Index=constraints_index, Active=True\n",
            "        Key : Lower : Body                                                                                    : Upper : Active\n",
            "          1 :  -Inf : 4*x[0] + 3*x[1] + 6*x[2] + 5*x[3] + 2*x[4] + 6*x[5] + 4*x[6] + 8*x[7] + 8*x[8] + 6*x[9] :  +Inf :   True\n",
            "          2 :  26.0 : 4*x[0] + 3*x[1] + 6*x[2] + 5*x[3] + 2*x[4] + 6*x[5] + 4*x[6] + 8*x[7] + 8*x[8] + 6*x[9] :  +Inf :   True\n",
            "          3 :  -Inf :                     x[0] + x[1] + x[2] + x[3] + x[4] + x[5] + x[6] + x[7] + x[8] + x[9] :   8.0 :   True\n",
            "          4 :   4.0 :                     x[0] + x[1] + x[2] + x[3] + x[4] + x[5] + x[6] + x[7] + x[8] + x[9] :  +Inf :   True\n",
            "          5 :  -Inf :                                                                             x[2] + x[7] :   1.0 :   True\n",
            "          6 :  -Inf :                                                                             x[2] + x[7] :  +Inf :   True\n",
            "          7 :  -Inf :                                                                             x[1] + x[9] :   1.0 :   True\n",
            "          8 :  -Inf :                                                                             x[1] + x[9] :  +Inf :   True\n",
            "          9 :  -Inf :                                                                             x[2] + x[8] :   1.0 :   True\n",
            "         10 :  -Inf :                                                                             x[2] + x[8] :  +Inf :   True\n",
            "         11 :  -Inf :                                                               x[0] + x[1] + x[2] + x[3] :   2.0 :   True\n",
            "         12 :   1.0 :                                                               x[0] + x[1] + x[2] + x[3] :  +Inf :   True\n",
            "         13 :  -Inf :                                                                             x[5] + x[9] :   1.0 :   True\n",
            "         14 :  -Inf :                                                                             x[5] + x[9] :  +Inf :   True\n",
            "         15 :  -Inf :                                                                      x[6] + x[8] + x[9] :   2.0 :   True\n",
            "         16 :  -Inf :                                                                      x[6] + x[8] + x[9] :  +Inf :   True\n",
            "         17 :  -Inf :                                                                           - x[4] + x[9] :   0.0 :   True\n",
            "         18 :  -Inf :                                                                           - x[4] + x[9] :  +Inf :   True\n",
            "         19 :  -Inf :                                                                              x[5] + x10 :   1.0 :   True\n",
            "         20 :  -Inf :                                                                              x[6] + x10 :   1.0 :   True\n",
            "\n",
            "6 Declarations: x_index x x10 constraints_index constraints new_objective\n"
          ]
        }
      ]
    },
    {
      "cell_type": "code",
      "source": [
        "result = opt.solve(model2)\n",
        "print(result)\n",
        "\n",
        "print('Solver status:', result.solver.status)\n",
        "print('Solver termination condition:',result.solver.termination_condition)\n",
        "print('Solver time:',result.solver.time)"
      ],
      "metadata": {
        "colab": {
          "base_uri": "https://localhost:8080/"
        },
        "id": "9vHZmMGBpd_a",
        "outputId": "810a6d78-2abc-41b4-cf36-a1e57d97aa5c"
      },
      "execution_count": 35,
      "outputs": [
        {
          "output_type": "stream",
          "name": "stdout",
          "text": [
            "\n",
            "Problem: \n",
            "- Name: unknown\n",
            "  Lower bound: 45.0\n",
            "  Upper bound: 45.0\n",
            "  Number of objectives: 1\n",
            "  Number of constraints: 14\n",
            "  Number of variables: 12\n",
            "  Number of nonzeros: 11\n",
            "  Sense: maximize\n",
            "Solver: \n",
            "- Status: ok\n",
            "  User time: -1.0\n",
            "  System time: 0.0\n",
            "  Wallclock time: 0.0\n",
            "  Termination condition: optimal\n",
            "  Termination message: Model was solved to optimality (subject to tolerances), and an optimal solution is available.\n",
            "  Statistics: \n",
            "    Branch and bound: \n",
            "      Number of bounded subproblems: None\n",
            "      Number of created subproblems: None\n",
            "    Black box: \n",
            "      Number of iterations: 6\n",
            "  Error rc: 0\n",
            "  Time: 0.024523496627807617\n",
            "Solution: \n",
            "- number of solutions: 0\n",
            "  number of solutions displayed: 0\n",
            "\n",
            "Solver status: ok\n",
            "Solver termination condition: optimal\n",
            "Solver time: 0.024523496627807617\n"
          ]
        }
      ]
    },
    {
      "cell_type": "code",
      "source": [
        "# display solution\n",
        "print('\\nObjective = ', model2.new_objective())\n",
        "\n",
        "print('\\nDecision Variables')\n",
        "for i in col_indices:\n",
        "  print('x[',i,'] = ', model2.x[i].value)\n",
        "print('x10 = ',model2.x10.value)\n",
        "print('\\nConstraints')\n",
        "model2.constraints.display()"
      ],
      "metadata": {
        "colab": {
          "base_uri": "https://localhost:8080/"
        },
        "id": "6BucWJ3bpihV",
        "outputId": "18c67368-fee2-4a5e-bc20-dd30f0887be7"
      },
      "execution_count": 36,
      "outputs": [
        {
          "output_type": "stream",
          "name": "stdout",
          "text": [
            "\n",
            "Objective =  45.0\n",
            "\n",
            "Decision Variables\n",
            "x[ 0 ] =  1.0\n",
            "x[ 1 ] =  0.0\n",
            "x[ 2 ] =  0.0\n",
            "x[ 3 ] =  1.0\n",
            "x[ 4 ] =  1.0\n",
            "x[ 5 ] =  0.0\n",
            "x[ 6 ] =  0.0\n",
            "x[ 7 ] =  1.0\n",
            "x[ 8 ] =  1.0\n",
            "x[ 9 ] =  1.0\n",
            "x10 =  1.0\n",
            "\n",
            "Constraints\n",
            "constraints : Size=20\n",
            "    Key : Lower : Body : Upper\n",
            "      1 :  None : 33.0 :  None\n",
            "      2 :  26.0 : 33.0 :  None\n",
            "      3 :  None :  6.0 :   8.0\n",
            "      4 :   4.0 :  6.0 :  None\n",
            "      5 :  None :  1.0 :   1.0\n",
            "      6 :  None :  1.0 :  None\n",
            "      7 :  None :  1.0 :   1.0\n",
            "      8 :  None :  1.0 :  None\n",
            "      9 :  None :  1.0 :   1.0\n",
            "     10 :  None :  1.0 :  None\n",
            "     11 :  None :  2.0 :   2.0\n",
            "     12 :   1.0 :  2.0 :  None\n",
            "     13 :  None :  1.0 :   1.0\n",
            "     14 :  None :  1.0 :  None\n",
            "     15 :  None :  2.0 :   2.0\n",
            "     16 :  None :  2.0 :  None\n",
            "     17 :  None :  0.0 :   0.0\n",
            "     18 :  None :  0.0 :  None\n",
            "     19 :  None :  1.0 :   1.0\n",
            "     20 :  None :  1.0 :   1.0\n"
          ]
        }
      ]
    },
    {
      "cell_type": "markdown",
      "source": [
        "\n",
        "\n",
        "$ \\huge{solution \\ \\ of \\ \\ 2.8}$\n",
        "\n",
        " $\\huge{optimal \\ \\ value \\ \\ of \\ \\ objective \\ \\ function = 45.0}$\n",
        "$\\huge{optimal \\ \\ value \\ \\ of \\ \\ decision variable} \\\\ x_0 = 1 \\\\ x_1 = 0 \\\\ x_2 = 0 \\\\ x_3 = 1 \\\\ x_4 = 1 \\\\ x_5 = 0 \\\\ x_6 =0 \\\\ x_7 =1 \\\\ x_8 =1 \\\\ x_9 = 1 \\\\ x_{10} = 1 $\n",
        "\n",
        "\n",
        "MILP and LP solution is same here  because by hakim's theorem we always get optimal solution at nodes (heuristic approach)\n",
        "\n",
        "here we get same solution but it always not happend in some case if we round off may be solution is infeasible"
      ],
      "metadata": {
        "id": "YLvwt0SnrQk-"
      }
    }
  ]
}